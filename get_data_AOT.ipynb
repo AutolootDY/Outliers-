{
 "cells": [
  {
   "cell_type": "code",
   "execution_count": 4,
   "metadata": {},
   "outputs": [
    {
     "name": "stderr",
     "output_type": "stream",
     "text": [
      "[*********************100%***********************]  1 of 1 completed"
     ]
    },
    {
     "name": "stdout",
     "output_type": "stream",
     "text": [
      "Price       Date     Close      High       Low      Open     Volume\n",
      "0     2004-03-11  2.618729  2.618729  2.414141  2.455059   17414690\n",
      "1     2004-03-12  2.509615  2.605090  2.509615  2.564172  668350000\n",
      "2     2004-03-15  2.482337  2.536893  2.482337  2.523254  346345000\n",
      "3     2004-03-16  2.468698  2.495976  2.455058  2.468698  136384000\n",
      "4     2004-03-17  2.509615  2.509615  2.482337  2.482337   88608000\n"
     ]
    },
    {
     "name": "stderr",
     "output_type": "stream",
     "text": [
      "\n"
     ]
    }
   ],
   "source": [
    "import yfinance as yf\n",
    "import pandas as pd\n",
    "\n",
    "# ดึงข้อมูลหุ้น AOT.BK\n",
    "data = yf.download(\"AOT.BK\", start='2000-02-05', end='2025-02-18', interval='1d')\n",
    "\n",
    "# ถ้ามี MultiIndex Headers ให้ลดเหลือชั้นเดียว\n",
    "if isinstance(data.columns, pd.MultiIndex):\n",
    "    data.columns = data.columns.get_level_values(0)  # ดึงเฉพาะชั้นแรก เช่น Open, High, Low, Close, Volume\n",
    "\n",
    "# รีเซ็ต index เพื่อให้ Date เป็นคอลัมน์\n",
    "data = data.reset_index()\n",
    "\n",
    "# เปลี่ยนชื่อคอลัมน์ให้ถูกต้อง\n",
    "data.rename(columns={'Date': 'Date', 'Open': 'Open', 'High': 'High', 'Low': 'Low', 'Close': 'Close', 'Adj Close': 'Adj Close', 'Volume': 'Volume'}, inplace=True)\n",
    "\n",
    "# แสดงตัวอย่างข้อมูล\n",
    "print(data.head())\n",
    "data.to_csv(\"AOT.BK.csv\")\n"
   ]
  },
  {
   "cell_type": "code",
   "execution_count": null,
   "metadata": {},
   "outputs": [],
   "source": [
    "data.columns"
   ]
  }
 ],
 "metadata": {
  "kernelspec": {
   "display_name": "Python 3",
   "language": "python",
   "name": "python3"
  },
  "language_info": {
   "codemirror_mode": {
    "name": "ipython",
    "version": 3
   },
   "file_extension": ".py",
   "mimetype": "text/x-python",
   "name": "python",
   "nbconvert_exporter": "python",
   "pygments_lexer": "ipython3",
   "version": "3.11.7"
  }
 },
 "nbformat": 4,
 "nbformat_minor": 2
}
